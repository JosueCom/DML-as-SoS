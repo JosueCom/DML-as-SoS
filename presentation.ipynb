{
 "cells": [
  {
   "attachments": {},
   "cell_type": "markdown",
   "metadata": {},
   "source": [
    "# Distributed Machine Learning as System-of-System (SoS)\n",
    "---\n",
    "## Set up\n",
    "* ### Imports"
   ]
  },
  {
   "cell_type": "code",
   "execution_count": null,
   "metadata": {},
   "outputs": [],
   "source": [
    "import torch as th\n",
    "from torch import nn\n",
    "\n",
    "import torchvision\n",
    "from torchvision.datasets import MNIST\n",
    "import torchvision.transforms as transforms\n",
    "from torch.distributions.uniform import Uniform\n",
    "from torch.utils.data import DataLoader\n",
    "\n",
    "from matplotlib import pyplot as plt\n",
    "import numpy as np\n",
    "\n",
    "from src import DatasetManager, Company, SoS"
   ]
  },
  {
   "attachments": {},
   "cell_type": "markdown",
   "metadata": {},
   "source": [
    "* ### Dataset & shared submodule structure"
   ]
  },
  {
   "cell_type": "code",
   "execution_count": null,
   "metadata": {},
   "outputs": [],
   "source": [
    "# Validation dataset\n",
    "mnist_test = MNIST(\"src/data/\", train=False, transform=transforms.ToTensor(), download=True)\n",
    "dtManager = DatasetManager(mnist_test)\n",
    "dt, _ = dtManager.get_dataset(size=1000, distribution=Uniform(0, 10))\n",
    "loader_test = DataLoader(dt, 100, shuffle=True, num_workers=3)\n",
    "\n",
    "# Training dataset\n",
    "mnist_train = MNIST(\"src/data/\", transform=transforms.ToTensor(), download=True)\n",
    "dtManager = DatasetManager(mnist_train)\n",
    "\n",
    "class Model(nn.Module):\n",
    "    def __init__(self) -> None:\n",
    "        super(Model, self).__init__()\n",
    "        self.conv1 = nn.Conv2d(1, 32, 3, 1)\n",
    "        self.conv2 = nn.Conv2d(32, 64, 3, 1)\n",
    "        self.dropout1 = nn.Dropout(0.25)\n",
    "        self.dropout2 = nn.Dropout(0.5)\n",
    "        self.fc1 = nn.Linear(9216, 128)\n",
    "        self.fc2 = nn.Linear(128, 10)\n",
    "\n",
    "    def forward(self, x) -> th.Tensor:\n",
    "        x = self.conv1(x)\n",
    "        x = th.relu(x)\n",
    "        x = self.conv2(x)\n",
    "        x = th.relu(x)\n",
    "        x = th.max_pool2d(x, 2)\n",
    "        x = self.dropout1(x)\n",
    "        x = th.flatten(x, 1)\n",
    "        x = self.fc1(x)\n",
    "        x = th.relu(x)\n",
    "        x = self.dropout2(x)\n",
    "        x = self.fc2(x)\n",
    "        output = th.log_softmax(x, dim=1)\n",
    "        return output\n",
    "\n",
    "device = th.device(\"cuda:0\" if th.cuda.is_available() else \"cpu\")"
   ]
  },
  {
   "attachments": {},
   "cell_type": "markdown",
   "metadata": {},
   "source": [
    "Dataset Sample"
   ]
  },
  {
   "cell_type": "code",
   "execution_count": null,
   "metadata": {},
   "outputs": [],
   "source": [
    "def imshow(img):\n",
    "    # img = img / 2 + 0.5\n",
    "    npimg = img.numpy()\n",
    "    plt.imshow(np.transpose(npimg, (1, 2, 0)), cmap='gray')\n",
    "    plt.show()\n",
    "\n",
    "dataiter = iter(loader_test)\n",
    "images, labels = next(dataiter)\n",
    "\n",
    "imshow(torchvision.utils.make_grid(images))"
   ]
  },
  {
   "attachments": {},
   "cell_type": "markdown",
   "metadata": {},
   "source": [
    "## System-of-systems\n",
    "\n",
    "### 1. Creation"
   ]
  },
  {
   "cell_type": "code",
   "execution_count": null,
   "metadata": {},
   "outputs": [],
   "source": [
    "## Create Companies\n",
    "n = 5\n",
    "companies = []\n",
    "\n",
    "for i in range(n):\n",
    "    dt, distribution = dtManager.get_dataset()\n",
    "    \n",
    "    companies.append(\n",
    "        Company(\"Company \" + i, \n",
    "                dataset = dt,\n",
    "                distribution=distribution,\n",
    "                shared_model = Model().to(device),\n",
    "                device=device\n",
    "        ))\n",
    "\n",
    "sos = SoS(companies);"
   ]
  },
  {
   "attachments": {},
   "cell_type": "markdown",
   "metadata": {},
   "source": [
    "Random distribution of companies' dataset"
   ]
  },
  {
   "cell_type": "code",
   "execution_count": null,
   "metadata": {},
   "outputs": [],
   "source": [
    "\n",
    "cnames = sos.get_names()\n",
    "cdist = sos.get_distribution()\n",
    "\n",
    "for i in range(cnames):\n",
    "    plt.bar(range(cdist.shape[1]), cdist[i])\n",
    "    plt.title(\"Data Distribution for \" + cnames[i])\n",
    "    plt.grid(True)\n",
    "    plt.show()"
   ]
  },
  {
   "attachments": {},
   "cell_type": "markdown",
   "metadata": {},
   "source": [
    "### 2. Partnership Formation"
   ]
  },
  {
   "cell_type": "code",
   "execution_count": null,
   "metadata": {},
   "outputs": [],
   "source": []
  },
  {
   "attachments": {},
   "cell_type": "markdown",
   "metadata": {},
   "source": [
    "### 3. Distributed Machine Learning"
   ]
  },
  {
   "cell_type": "code",
   "execution_count": null,
   "metadata": {},
   "outputs": [],
   "source": []
  }
 ],
 "metadata": {
  "language_info": {
   "name": "python"
  },
  "orig_nbformat": 4
 },
 "nbformat": 4,
 "nbformat_minor": 2
}
